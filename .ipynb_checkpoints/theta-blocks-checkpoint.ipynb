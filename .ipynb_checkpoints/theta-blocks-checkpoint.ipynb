{
 "cells": [
  {
   "cell_type": "code",
   "execution_count": 1,
   "metadata": {
    "collapsed": true
   },
   "outputs": [],
   "source": [
    "import numpy as np\n",
    "from sympy import Matrix\n",
    "import matplotlib.pyplot as plt\n",
    "%matplotlib inline\n",
    "\n",
    "from ThetaBlockUtils import *"
   ]
  },
  {
   "cell_type": "markdown",
   "metadata": {},
   "source": [
    "A <em>theta block</em> is a sequence of integers with finite support \n",
    "$$f:\\mathbb{Z}\\to \\mathbb{Z}^\\infty.$$\n",
    "\n",
    "A theta block $f$ defines a quotient of products of theta functions and eta functions such that\n",
    "\n",
    "$${\\rm TB}(f)\\in J_{k,m}^{\\rm mero}(\\epsilon^K\\nu_H^L),$$\n",
    "\n",
    "where\n",
    "\n",
    "$$2k = f(0),\\qquad L=\\sum_{\\ell\\in\\mathbb{N}}\\ell f(\\ell),\\qquad  K=f(0)+2\\sum_{\\ell\\in\\mathbb{N}}f(\\ell),\\qquad 2m = \\sum_{\\ell\\in\\mathbb{N}} \\ell^2 f(\\ell)$$\n",
    "\n",
    "\n",
    "\n",
    "We will consider only those theta blocks with trivial character so that $K$ is divisible by $24$ and $L$ is even. Morevoer, we consider only theta blocks without theta functions in their denominators. We will use two notations to represent a theta block:\n",
    "\n",
    "$$f=[4,5,3,0,1]_1=[1,1,1,1,1,2,2,2,4]_2$$\n",
    "\n",
    "The second notation indicates a weakly holomorphic Jacobi form with trivial character such that its index is half of the sum of squares of the integers in the list. The second notation does not indicate the weight. The weight of a theta block in the second notation will have to be made clear in another way. We have a function to indicate a the <em>shape</em> of such a theta block, i.e., the number of positive integers that appear in the list in the second notation."
   ]
  },
  {
   "cell_type": "code",
   "execution_count": 2,
   "metadata": {},
   "outputs": [
    {
     "data": {
      "text/plain": [
       "[10]"
      ]
     },
     "execution_count": 2,
     "metadata": {},
     "output_type": "execute_result"
    }
   ],
   "source": [
    "# Get the smallest shape of a theta block of weight 2 \n",
    "get_theta_block_shapes(2)"
   ]
  },
  {
   "cell_type": "code",
   "execution_count": 3,
   "metadata": {},
   "outputs": [
    {
     "data": {
      "text/plain": [
       "[10]"
      ]
     },
     "execution_count": 3,
     "metadata": {},
     "output_type": "execute_result"
    }
   ],
   "source": [
    "# Get the smallest shape of a theta block of weight 2 \n",
    "get_theta_block_shapes(2, 1)"
   ]
  },
  {
   "cell_type": "code",
   "execution_count": 4,
   "metadata": {},
   "outputs": [
    {
     "data": {
      "text/plain": [
       "[10, 22]"
      ]
     },
     "execution_count": 4,
     "metadata": {},
     "output_type": "execute_result"
    }
   ],
   "source": [
    "# Get the two smallest shapes of theta blocks of weight 2\n",
    "get_theta_block_shapes(2,2)"
   ]
  },
  {
   "cell_type": "code",
   "execution_count": 5,
   "metadata": {},
   "outputs": [
    {
     "data": {
      "text/plain": [
       "[9, 21]"
      ]
     },
     "execution_count": 5,
     "metadata": {},
     "output_type": "execute_result"
    }
   ],
   "source": [
    "# Get the two smallest shapes of theta blocks of weight 3\n",
    "get_theta_block_shapes(3,2)"
   ]
  },
  {
   "cell_type": "code",
   "execution_count": 6,
   "metadata": {},
   "outputs": [
    {
     "data": {
      "text/plain": [
       "[9, 21, 33, 45, 57]"
      ]
     },
     "execution_count": 6,
     "metadata": {},
     "output_type": "execute_result"
    }
   ],
   "source": [
    "# Get the 5 smallest shapes of theta blocks of weight 3\n",
    "get_theta_block_shapes(3,5)"
   ]
  },
  {
   "cell_type": "code",
   "execution_count": 7,
   "metadata": {},
   "outputs": [
    {
     "data": {
      "text/plain": [
       "[8, 20, 32, 44, 56]"
      ]
     },
     "execution_count": 7,
     "metadata": {},
     "output_type": "execute_result"
    }
   ],
   "source": [
    "# Get the 5 smallest shapes of theta blocks of weight 4\n",
    "get_theta_block_shapes(4,5)"
   ]
  },
  {
   "cell_type": "markdown",
   "metadata": {},
   "source": [
    "Theta blocks are built using <em>Jacobi's odd theta function</em>:\n",
    "\n",
    "$$ \\vartheta(\\tau, z) = \\sum_{n\\in\\mathbb{Z}} \\left(\\dfrac{-4}{n}\\right) q^{n^2/8}\\zeta^{n/2}$$\n",
    "\n",
    "and the <em>Dedekind eta function</em>:\n",
    "\n",
    "$$\\eta(\\tau) = q^{1/24}\\prod_{k=1}^\\infty\\left(1-q^k\\right).$$\n",
    "\n",
    "In these expansions, we write $q=e^{2\\pi i\\tau}$ and $\\zeta=e^{2\\pi i z}$.\n",
    "\n",
    "In computing expansions, we also set $Q^8 = q$ and $Z^2 = \\zeta$ so that we don't have rational powers with denominator. The series expansions are put into a Python dictionary."
   ]
  },
  {
   "cell_type": "markdown",
   "metadata": {},
   "source": [
    "### The Dedekind eta function\n",
    "\n",
    "We can get the series expansion of $\\eta(\\tau)/q^{1/24}$ in $q$ up to any order."
   ]
  },
  {
   "cell_type": "code",
   "execution_count": 8,
   "metadata": {},
   "outputs": [
    {
     "name": "stdout",
     "output_type": "stream",
     "text": [
      "{0: 1, 1: -1, 2: -1, 5: 1, 7: 1, 12: -1, 15: -1, 20: 0}\n",
      "\n",
      "1 + (-1)q + (-1)q^(2) + (1)q^(5) + (1)q^(7) + (-1)q^(12) + (-1)q^(15) + O(q^(21))\n"
     ]
    }
   ],
   "source": [
    "max_q_power = 20\n",
    "dedekind_eta_dict = dedekind_eta(max_q_power)\n",
    "\n",
    "print(dedekind_eta_dict)\n",
    "print()\n",
    "print(print_one_var_expansion(dedekind_eta_dict, 'q'))"
   ]
  },
  {
   "cell_type": "markdown",
   "metadata": {},
   "source": [
    "### Jacobi's odd theta function $\\vartheta(\\tau,z)$\n",
    "\n",
    "We can also get the series expansion of $\\vartheta(\\tau, \\ell z)$ for any integer $\\ell$ up to any order in $q$."
   ]
  },
  {
   "cell_type": "code",
   "execution_count": 9,
   "metadata": {},
   "outputs": [
    {
     "name": "stdout",
     "output_type": "stream",
     "text": [
      "{'1|1': 1, '9|3': -1, '1|-1': -1, '25|5': 1, '9|-3': 1, '49|7': -1, '25|-5': -1, '81|9': 1, '49|-7': 1, '121|11': -1, '81|-9': -1}\n",
      "\n",
      "(Z^(1) + (-1)Z^(-1))*Q^(1) + ((-1)Z^(3) + (1)Z^(-3))*Q^(9) + (Z^(5) + (-1)Z^(-5))*Q^(25) + ((-1)Z^(7) + (1)Z^(-7))*Q^(49) + (Z^(9) + (-1)Z^(-9))*Q^(81) + ((-1)Z^(11))*Q^(121) + O(Q^(168))\n"
     ]
    }
   ],
   "source": [
    "max_q_power = 20\n",
    "jacobi_odd_theta_dict = jacobi_odd_theta_function(max_q_power)\n",
    "\n",
    "print(jacobi_odd_theta_dict)\n",
    "print()\n",
    "print(print_QZ_function(jacobi_odd_theta_dict, max_q_power))"
   ]
  },
  {
   "cell_type": "markdown",
   "metadata": {},
   "source": [
    "### $\\vartheta_\\ell(\\tau,z) = \\vartheta(\\tau,\\ell z)$"
   ]
  },
  {
   "cell_type": "code",
   "execution_count": 10,
   "metadata": {},
   "outputs": [
    {
     "name": "stdout",
     "output_type": "stream",
     "text": [
      "{'1|5': 1, '9|15': -1, '1|-5': -1, '25|25': 1, '9|-15': 1, '49|35': -1, '25|-25': -1, '81|45': 1, '49|-35': 1, '121|55': -1, '81|-45': -1}\n",
      "\n",
      "(Z^(5) + (-1)Z^(-5))*Q^(1) + ((-1)Z^(15) + (1)Z^(-15))*Q^(9) + (Z^(25) + (-1)Z^(-25))*Q^(25) + ((-1)Z^(35) + (1)Z^(-35))*Q^(49) + (Z^(45) + (-1)Z^(-45))*Q^(81) + ((-1)Z^(55))*Q^(121) + O(Q^(168))\n"
     ]
    }
   ],
   "source": [
    "max_q_power = 20\n",
    "ell = 5\n",
    "jacobi_odd_theta_ell_dict = jacobi_odd_theta_function(max_q_power, ell)\n",
    "\n",
    "print(jacobi_odd_theta_ell_dict)\n",
    "print()\n",
    "print(print_QZ_function(jacobi_odd_theta_ell_dict, max_q_power))"
   ]
  },
  {
   "cell_type": "markdown",
   "metadata": {},
   "source": [
    "# Finding all theta blocks\n",
    "\n",
    "We can find all theta blocks without theta denominator of a chosen index and weight."
   ]
  },
  {
   "cell_type": "code",
   "execution_count": 11,
   "metadata": {},
   "outputs": [
    {
     "data": {
      "text/plain": [
       "[[4, 1, 7, 1, 0, 0, 1],\n",
       " [4, 7, 0, 2, 0, 0, 0, 1],\n",
       " [4, 2, 0, 8],\n",
       " [4, 1, 3, 5, 1],\n",
       " [4, 4, 1, 2, 3],\n",
       " [4, 0, 6, 2, 2],\n",
       " [4, 5, 2, 1, 1, 0, 1],\n",
       " [4, 6, 0, 2, 0, 2],\n",
       " [4, 3, 3, 2, 1, 1],\n",
       " [4, 4, 0, 5, 0, 1]]"
      ]
     },
     "execution_count": 11,
     "metadata": {},
     "output_type": "execute_result"
    }
   ],
   "source": [
    "select_index = 37\n",
    "select_weight = 2\n",
    "\n",
    "select_tbs = get_theta_blocks(select_index, select_weight)\n",
    "select_tbs"
   ]
  },
  {
   "cell_type": "markdown",
   "metadata": {},
   "source": [
    "### We can also get only the theta blocks that are cuspidal. \n",
    "\n",
    "See below for how cuspidality can be quickly determined."
   ]
  },
  {
   "cell_type": "code",
   "execution_count": 12,
   "metadata": {},
   "outputs": [
    {
     "data": {
      "text/plain": [
       "[[4, 3, 3, 2, 1, 1]]"
      ]
     },
     "execution_count": 12,
     "metadata": {},
     "output_type": "execute_result"
    }
   ],
   "source": [
    "select_cuspidal_tbs = get_cuspidal_theta_blocks(select_index, select_weight)\n",
    "select_cuspidal_tbs"
   ]
  },
  {
   "cell_type": "markdown",
   "metadata": {},
   "source": [
    "We can also compute the powers $K$ and $L$ of the characters $\\epsilon$ and $\\nu_H$, respectively, to check if the character is trivial. This happens precisely when $L$ is even and $24 | K$."
   ]
  },
  {
   "cell_type": "code",
   "execution_count": 13,
   "metadata": {},
   "outputs": [
    {
     "data": {
      "text/plain": [
       "14"
      ]
     },
     "execution_count": 13,
     "metadata": {},
     "output_type": "execute_result"
    }
   ],
   "source": [
    "theta_block_L(select_cuspidal_tbs[0])"
   ]
  },
  {
   "cell_type": "code",
   "execution_count": 14,
   "metadata": {},
   "outputs": [
    {
     "data": {
      "text/plain": [
       "24"
      ]
     },
     "execution_count": 14,
     "metadata": {},
     "output_type": "execute_result"
    }
   ],
   "source": [
    "theta_block_K(select_cuspidal_tbs[0])"
   ]
  },
  {
   "cell_type": "markdown",
   "metadata": {},
   "source": [
    "## Computing a series expansion of a theta block\n",
    "\n",
    "We can compute a series expansion of a theta block, again given as a dictionary. In this example, we also compute the factors of the theta block from the $\\eta$ function and from the $\\vartheta$ function. We remind the reader that we use $Q$ such that $Q^8=q$ and $Z$ such that $Z^2=\\zeta$."
   ]
  },
  {
   "cell_type": "code",
   "execution_count": 15,
   "metadata": {},
   "outputs": [
    {
     "name": "stdout",
     "output_type": "stream",
     "text": [
      "[4, 3, 3, 2, 1, 1]\n"
     ]
    }
   ],
   "source": [
    "max_q_power = 10\n",
    "\n",
    "select_tb = select_cuspidal_tbs[0]\n",
    "print(select_tb)"
   ]
  },
  {
   "cell_type": "markdown",
   "metadata": {},
   "source": [
    "#### The $\\eta$ factor"
   ]
  },
  {
   "cell_type": "code",
   "execution_count": 16,
   "metadata": {},
   "outputs": [
    {
     "name": "stdout",
     "output_type": "stream",
     "text": [
      " + (1.0)Q^(-2) + (6.0)Q^(6) + (27.0)Q^(14) + (98.0)Q^(22) + (315.0)Q^(30) + (918.0)Q^(38) + (2492.0)Q^(46) + (6372.0)Q^(54) + (15525.0)Q^(62) + (36280.0)Q^(70) + (81816.0)Q^(78) + O(Q^(79))\n"
     ]
    }
   ],
   "source": [
    "select_tb_eta_factor = get_theta_block_eta_factor(select_tb, max_q_power)\n",
    "\n",
    "print(print_one_var_expansion(select_tb_eta_factor, 'Q'))"
   ]
  },
  {
   "cell_type": "markdown",
   "metadata": {},
   "source": [
    "#### The $\\vartheta$ factor"
   ]
  },
  {
   "cell_type": "code",
   "execution_count": 17,
   "metadata": {},
   "outputs": [
    {
     "name": "stdout",
     "output_type": "stream",
     "text": [
      "(Z^(24) + (-4)Z^(14) + (-1)Z^(16) + (0)Z^(6) + (6)Z^(18) + (3)Z^(8) + (3)Z^(10) + (-6) + (-4)Z^(12) + (-2)Z^(2) + (4)Z^(4) + (0)Z^(-6) + (0)Z^(20) + (4)Z^(-4) + (-2)Z^(-2) + (3)Z^(-10) + (3)Z^(-8) + (-4)Z^(-14) + (-4)Z^(-12) + (6)Z^(-18) + (-3)Z^(22) + (-1)Z^(-16) + (0)Z^(-20) + (-3)Z^(-22) + (1)Z^(-24))*Q^(10) + ((-1)Z^(34) + (-23)Z^(4) + (2)Z^(32) + (19)Z^(22) + (1)Z^(26) + (-23)Z^(-4) + (-24)Z^(8) + (16)Z^(-2) + (1)Z^(30) + (0)Z^(20) + (26)Z^(12) + (-3)Z^(28) + (12)Z^(16) + (-19)Z^(-10) + (16)Z^(2) + (-24)Z^(-8) + (-1)Z^(-6) + (-8)Z^(24) + (20)Z^(14) + (-1)Z^(6) + (-19)Z^(10) + (12)Z^(-16) + (20)Z^(-14) + (26)Z^(-12) + (-36)Z^(18) + (36) + (0)Z^(-20) + (-36)Z^(-18) + (-8)Z^(-24) + (19)Z^(-22) + (-3)Z^(-28) + (1)Z^(-26) + (1)Z^(-30) + (2)Z^(-32) + (-1)Z^(-34))*Q^(18) + (Z^(42) + (-44)Z^(12) + (50)Z^(18) + (-44)Z^(-12) + (-1)Z^(40) + (36)Z^(10) + (-1)Z^(38) + (18)Z^(28) + (-9)Z^(32) + (-43)Z^(2) + (-10)Z^(14) + (28)Z^(4) + (-2)Z^(36) + (8)Z^(6) + (50)Z^(-18) + (-35)Z^(22) + (63)Z^(-8) + (0)Z^(20) + (-45)Z^(-16) + (28)Z^(-4) + (-10)Z^(-14) + (-9)Z^(26) + (8)Z^(34) + (63)Z^(8) + (-43)Z^(-2) + (-60) + (-5)Z^(30) + (22)Z^(-24) + (-45)Z^(16) + (-35)Z^(-22) + (36)Z^(-10) + (0)Z^(-20) + (22)Z^(24) + (8)Z^(-6) + (18)Z^(-28) + (-9)Z^(-26) + (-9)Z^(-32) + (-5)Z^(-30) + (-2)Z^(-36) + (8)Z^(-34) + (-1)Z^(-38) + (-1)Z^(-40) + (1)Z^(-42))*Q^(26) + O(Q^(40))\n"
     ]
    }
   ],
   "source": [
    "select_tb_theta_factor = get_theta_block_theta_factor(select_tb, max_q_power)\n",
    "\n",
    "print(print_QZ_function(select_tb_theta_factor, 4))"
   ]
  },
  {
   "cell_type": "markdown",
   "metadata": {},
   "source": [
    "#### The series expansion of the theta block\n",
    "\n",
    "Here we compute the series expansion, obtained as a product of the $\\eta$ and $\\theta$ factors."
   ]
  },
  {
   "cell_type": "code",
   "execution_count": 18,
   "metadata": {},
   "outputs": [
    {
     "name": "stdout",
     "output_type": "stream",
     "text": [
      "((1.0)Z^(24) + (-4.0)Z^(14) + (-1.0)Z^(16) + (0.0)Z^(6) + (6.0)Z^(18) + (3.0)Z^(8) + (3.0)Z^(10) + (-6.0) + (-4.0)Z^(12) + (-2.0)Z^(2) + (4.0)Z^(4) + (0.0)Z^(-6) + (0.0)Z^(20) + (4.0)Z^(-4) + (-2.0)Z^(-2) + (3.0)Z^(-10) + (3.0)Z^(-8) + (-4.0)Z^(-14) + (-4.0)Z^(-12) + (6.0)Z^(-18) + (-3.0)Z^(22) + (-1.0)Z^(-16) + (0.0)Z^(-20) + (-3.0)Z^(-22) + (1.0)Z^(-24))*Q^(8) + ((-1.0)Z^(34) + (1.0)Z^(4) + (2.0)Z^(32) + (1.0)Z^(22) + (1.0)Z^(26) + (1.0)Z^(-4) + (-6.0)Z^(8) + (4.0)Z^(-2) + (1.0)Z^(30) + (0.0)Z^(20) + (2.0)Z^(12) + (-3.0)Z^(28) + (6.0)Z^(16) + (-1.0)Z^(-10) + (4.0)Z^(2) + (-6.0)Z^(-8) + (-1.0)Z^(-6) + (-2.0)Z^(24) + (-4.0)Z^(14) + (-1.0)Z^(6) + (-1.0)Z^(10) + (6.0)Z^(-16) + (-4.0)Z^(-14) + (2.0)Z^(-12) + (0.0)Z^(18) + (0.0) + (0.0)Z^(-20) + (0.0)Z^(-18) + (-2.0)Z^(-24) + (1.0)Z^(-22) + (-3.0)Z^(-28) + (1.0)Z^(-26) + (1.0)Z^(-30) + (2.0)Z^(-32) + (-1.0)Z^(-34))*Q^(16) + ((1.0)Z^(42) + (4.0)Z^(12) + (-4.0)Z^(18) + (4.0)Z^(-12) + (-1.0)Z^(40) + (3.0)Z^(10) + (-1.0)Z^(38) + (0.0)Z^(28) + (3.0)Z^(32) + (-1.0)Z^(2) + (2.0)Z^(14) + (-2.0)Z^(4) + (-2.0)Z^(36) + (2.0)Z^(6) + (-4.0)Z^(-18) + (-2.0)Z^(22) + (0.0)Z^(-8) + (0.0)Z^(20) + (0.0)Z^(-16) + (-2.0)Z^(-4) + (2.0)Z^(-14) + (-3.0)Z^(26) + (2.0)Z^(34) + (0.0)Z^(8) + (-1.0)Z^(-2) + (-6.0) + (1.0)Z^(30) + (1.0)Z^(-24) + (0.0)Z^(16) + (-2.0)Z^(-22) + (3.0)Z^(-10) + (0.0)Z^(-20) + (1.0)Z^(24) + (2.0)Z^(-6) + (0.0)Z^(-28) + (-3.0)Z^(-26) + (3.0)Z^(-32) + (1.0)Z^(-30) + (-2.0)Z^(-36) + (2.0)Z^(-34) + (-1.0)Z^(-38) + (-1.0)Z^(-40) + (1.0)Z^(-42))*Q^(24) + ((3.0)Z^(44) + (1.0)Z^(-6) + (-6.0)Z^(36) + (-1.0)Z^(-14) + (2.0)Z^(40) + (-2.0)Z^(30) + (12.0) + (-3.0)Z^(-10) + (-2.0)Z^(48) + (3.0)Z^(18) + (2.0)Z^(24) + (-1.0)Z^(38) + (0.0)Z^(-12) + (-3.0)Z^(-20) + (-1.0)Z^(34) + (-6.0)Z^(-16) + (4.0)Z^(26) + (4.0)Z^(28) + (1.0)Z^(6) + (2.0)Z^(-24) + (2.0)Z^(-4) + (-1.0)Z^(-2) + (2.0)Z^(46) + (-6.0)Z^(16) + (-4.0)Z^(8) + (-3.0)Z^(20) + (-3.0)Z^(10) + (-2.0)Z^(42) + (0.0)Z^(12) + (-1.0)Z^(2) + (-4.0)Z^(-8) + (2.0)Z^(32) + (3.0)Z^(-18) + (4.0)Z^(-26) + (1.0)Z^(-22) + (1.0)Z^(22) + (-2.0)Z^(-30) + (4.0)Z^(-28) + (-1.0)Z^(14) + (2.0)Z^(4) + (-1.0)Z^(-34) + (2.0)Z^(-32) + (-1.0)Z^(-38) + (-6.0)Z^(-36) + (-2.0)Z^(-42) + (2.0)Z^(-40) + (3.0)Z^(-44) + (2.0)Z^(-46) + (-2.0)Z^(-48))*Q^(32) + ((2.0)Z^(52) + (-5.0)Z^(2) + (-6.0)Z^(50) + (4.0)Z^(20) + (-8.0)Z^(28) + (5.0)Z^(-22) + (-6.0)Z^(10) + (4.0)Z^(-20) + (0.0) + (-2.0)Z^(42) + (5.0)Z^(-8) + (3.0)Z^(46) + (0.0)Z^(36) + (-2.0)Z^(6) + (0.0)Z^(-4) + (0.0)Z^(44) + (10.0)Z^(14) + (5.0)Z^(22) + (-8.0)Z^(-28) + (0.0)Z^(4) + (-3.0)Z^(-26) + (-3.0)Z^(16) + (-5.0)Z^(34) + (7.0)Z^(38) + (5.0)Z^(8) + (-4.0)Z^(32) + (-1.0)Z^(-18) + (-1.0)Z^(24) + (-1.0)Z^(18) + (2.0)Z^(-12) + (10.0)Z^(-14) + (-6.0)Z^(-10) + (1.0)Z^(54) + (4.0)Z^(30) + (-2.0)Z^(-6) + (4.0)Z^(40) + (2.0)Z^(12) + (-5.0)Z^(-34) + (-5.0)Z^(-2) + (-4.0)Z^(-32) + (-3.0)Z^(26) + (-1.0)Z^(-24) + (-3.0)Z^(-16) + (0.0)Z^(-36) + (-1.0)Z^(48) + (4.0)Z^(-30) + (7.0)Z^(-38) + (4.0)Z^(-40) + (-2.0)Z^(-42) + (0.0)Z^(-44) + (3.0)Z^(-46) + (-1.0)Z^(-48) + (-6.0)Z^(-50) + (2.0)Z^(-52) + (1.0)Z^(-54))*Q^(40) + ((-1.0)Z^(58) + (2.0)Z^(8) + (0.0)Z^(56) + (-1.0)Z^(26) + (1.0)Z^(34) + (0.0)Z^(-16) + (0.0)Z^(16) + (0.0)Z^(-14) + (1.0)Z^(54) + (0.0)Z^(24) + (2.0)Z^(30) + (0.0) + (-2.0)Z^(40) + (2.0)Z^(-10) + (-2.0)Z^(38) + (1.0)Z^(-34) + (1.0)Z^(-2) + (4.0)Z^(-32) + (0.0)Z^(-6) + (2.0)Z^(-30) + (0.0)Z^(6) + (-4.0)Z^(48) + (3.0)Z^(52) + (1.0)Z^(42) + (1.0)Z^(12) + (1.0)Z^(2) + (1.0)Z^(50) + (-3.0)Z^(20) + (-1.0)Z^(28) + (0.0)Z^(-22) + (2.0)Z^(10) + (-3.0)Z^(-20) + (0.0)Z^(22) + (-1.0)Z^(44) + (0.0)Z^(14) + (1.0)Z^(-12) + (2.0)Z^(-8) + (-2.0)Z^(-4) + (-4.0)Z^(18) + (4.0)Z^(32) + (-2.0)Z^(-40) + (-2.0)Z^(-38) + (3.0)Z^(-36) + (-2.0)Z^(4) + (0.0)Z^(-24) + (-1.0)Z^(-26) + (-4.0)Z^(-18) + (-1.0)Z^(46) + (3.0)Z^(36) + (-1.0)Z^(-28) + (-1.0)Z^(-44) + (1.0)Z^(-42) + (-4.0)Z^(-48) + (-1.0)Z^(-46) + (3.0)Z^(-52) + (1.0)Z^(-50) + (1.0)Z^(-54) + (0.0)Z^(-56) + (-1.0)Z^(-58))*Q^(48) + ((5.0)Z^(54) + (-3.0)Z^(46) + (4.0)Z^(60) + (-7.0)Z^(10) + (6.0)Z^(48) + (3.0)Z^(38) + (0.0)Z^(20) + (1.0)Z^(-30) + (-3.0)Z^(40) + (8.0)Z^(4) + (-4.0)Z^(42) + (-2.0)Z^(32) + (11.0)Z^(14) + (18.0)Z^(-36) + (-6.0)Z^(56) + (2.0)Z^(6) + (18.0)Z^(-2) + (-4.0)Z^(52) + (2.0)Z^(12) + (9.0)Z^(2) + (4.0)Z^(34) + (9.0)Z^(24) + (1.0)Z^(26) + (13.0)Z^(-24) + (-8.0)Z^(18) + (-13.0)Z^(-32) + (-2.0)Z^(22) + (-13.0)Z^(-18) + (1.0)Z^(-28) + (-1.0)Z^(64) + (-1.0)Z^(62) + (25.0)Z^(-10) + (19.0)Z^(-8) + (-7.0)Z^(30) + (6.0)Z^(36) + (-7.0)Z^(-4) + (0.0)Z^(44) + (0.0)Z^(-26) + (1.0) + (-12.0)Z^(8) + (-3.0)Z^(-42) + (-2.0)Z^(50) + (2.0)Z^(28) + (5.0)Z^(-38) + (-9.0)Z^(16) + (-3.0)Z^(-34) + (-16.0)Z^(-12) + (4.0)Z^(-22) + (-7.0)Z^(-46) + (4.0)Z^(-14) + (-3.0)Z^(-44) + (-8.0)Z^(-20) + (2.0)Z^(58) + (-39.0)Z^(-6) + (-2.0)Z^(-16) + (-6.0)Z^(-40) + (-2.0)Z^(-50) + (13.0)Z^(-48) + (6.0)Z^(-54) + (-7.0)Z^(-52) + (2.0)Z^(-58) + (-6.0)Z^(-56) + (4.0)Z^(-60) + (-1.0)Z^(-62) + (-1.0)Z^(-64))*Q^(56) + ((-3.0)Z^(62) + (-4.0)Z^(38) + (1.0)Z^(58) + (12.0)Z^(28) + (-3.0)Z^(60) + (-3.0)Z^(52) + (0.0)Z^(66) + (15.0)Z^(16) + (2.0)Z^(54) + (-3.0)Z^(44) + (5.0)Z^(26) + (9.0)Z^(-24) + (6.0)Z^(56) + (-12.0)Z^(32) + (-3.0)Z^(22) + (-4.0)Z^(64) + (16.0)Z^(14) + (0.0)Z^(40) + (30.0)Z^(-10) + (32.0)Z^(-8) + (-1.0)Z^(42) + (-6.0)Z^(34) + (4.0)Z^(48) + (11.0)Z^(-2) + (0.0)Z^(36) + (-36.0)Z^(8) + (14.0)Z^(-42) + (4.0)Z^(50) + (22.0)Z^(-16) + (5.0)Z^(2) + (-8.0)Z^(10) + (-13.0)Z^(-40) + (-15.0)Z^(-38) + (2.0)Z^(46) + (6.0)Z^(20) + (-4.0)Z^(-30) + (6.0)Z^(12) + (20.0)Z^(4) + (-2.0)Z^(18) + (0.0)Z^(30) + (3.0)Z^(-18) + (-7.0)Z^(24) + (9.0)Z^(-26) + (-12.0)Z^(-12) + (15.0)Z^(-22) + (-23.0)Z^(-14) + (21.0)Z^(-48) + (-22.0)Z^(-4) + (-18.0)Z^(-46) + (-6.0)Z^(-44) + (-40.0)Z^(-6) + (-5.0) + (25.0)Z^(-36) + (-3.0)Z^(6) + (-37.0)Z^(-32) + (14.0)Z^(-28) + (-23.0)Z^(-20) + (3.0)Z^(68) + (1.0)Z^(-34) + (-15.0)Z^(-52) + (18.0)Z^(-50) + (-5.0)Z^(-54) + (9.0)Z^(-56) + (3.0)Z^(-58) + (-2.0)Z^(-60) + (-4.0)Z^(-62) + (-4.0)Z^(-64) + (0.0)Z^(-66) + (3.0)Z^(-68))*Q^(64) + ((0.0)Z^(68) + (-6.0)Z^(44) + (1.0)Z^(64) + (2.0)Z^(34) + (5.0)Z^(50) + (2.0)Z^(26) + (-3.0)Z^(46) + (13.0)Z^(16) + (0.0)Z^(60) + (-6.0)Z^(30) + (8.0)Z^(36) + (-9.0)Z^(6) + (6.0)Z^(66) + (-2.0)Z^(58) + (-2.0)Z^(72) + (-17.0)Z^(22) + (2.0)Z^(32) + (12.0)Z^(-18) + (-1.0)Z^(62) + (0.0)Z^(38) + (16.0)Z^(28) + (0.0)Z^(70) + (-14.0)Z^(20) + (-30.0)Z^(-4) + (25.0)Z^(-2) + (3.0)Z^(48) + (-2.0)Z^(40) + (-12.0)Z^(54) + (72.0)Z^(4) + (9.0)Z^(42) + (27.0)Z^(14) + (83.0)Z^(-36) + (0.0)Z^(56) + (115.0)Z^(-10) + (-36.0)Z^(8) + (29.0)Z^(-34) + (-73.0)Z^(-32) + (-11.0)Z^(10) + (-18.0)Z^(24) + (-28.0) + (-5.0)Z^(12) + (2.0)Z^(52) + (11.0)Z^(2) + (-20.0)Z^(-22) + (-33.0)Z^(-20) + (-48.0)Z^(-14) + (-27.0)Z^(-54) + (11.0)Z^(-28) + (-47.0)Z^(-52) + (41.0)Z^(-50) + (38.0)Z^(-24) + (61.0)Z^(-48) + (4.0)Z^(18) + (-94.0)Z^(-6) + (-17.0)Z^(-38) + (-32.0)Z^(-12) + (20.0)Z^(-26) + (41.0)Z^(-8) + (-29.0)Z^(-44) + (47.0)Z^(-42) + (-27.0)Z^(-40) + (16.0)Z^(-58) + (8.0)Z^(-56) + (-42.0)Z^(-30) + (21.0)Z^(-16) + (-58.0)Z^(-46) + (-8.0)Z^(-62) + (2.0)Z^(-60) + (4.0)Z^(-66) + (0.0)Z^(-64) + (2.0)Z^(-68) + (0.0)Z^(-70) + (-2.0)Z^(-72))*Q^(72) + ((-27.0)Z^(68) + (-72.0)Z^(44) + (52.0)Z^(64) + (-17.0)Z^(34) + (44.0)Z^(50) + (9.0)Z^(26) + (-58.0)Z^(46) + (29.0)Z^(16) + (-13.0)Z^(60) + (74.0)Z^(30) + (228.0)Z^(36) + (-142.0)Z^(6) + (36.0)Z^(66) + (-71.0)Z^(58) + (-12.0)Z^(72) + (-192.0)Z^(22) + (112.0)Z^(32) + (610.0)Z^(-18) + (31.0)Z^(62) + (-1.0)Z^(38) + (-106.0)Z^(28) + (0.0)Z^(70) + (-195.0)Z^(20) + (370.0)Z^(-4) + (-186.0)Z^(-2) + (-176.0)Z^(48) + (-22.0)Z^(40) + (-110.0)Z^(54) + (454.0)Z^(4) + (113.0)Z^(42) + (-445.0)Z^(14) + (333.0)Z^(-36) + (6.0)Z^(56) + (347.0)Z^(-10) + (542.0)Z^(8) + (152.0)Z^(-34) + (-3.0)Z^(-32) + (253.0)Z^(10) + (-129.0)Z^(24) + (-433.0) + (-522.0)Z^(12) + (169.0)Z^(52) + (-126.0)Z^(2) + (-432.0)Z^(-22) + (32.0)Z^(-20) + (-474.0)Z^(-14) + (-147.0)Z^(-54) + (-144.0)Z^(-28) + (13.0)Z^(-52) + (134.0)Z^(-50) + (23.0)Z^(-24) + (-51.0)Z^(-48) + (557.0)Z^(18) + (91.0)Z^(-6) + (-24.0)Z^(-38) + (-342.0)Z^(-12) + (91.0)Z^(-26) + (82.0)Z^(-8) + (-153.0)Z^(-44) + (196.0)Z^(-42) + (-25.0)Z^(-40) + (19.0)Z^(-58) + (27.0)Z^(-56) + (-186.0)Z^(-30) + (-56.0)Z^(-16) + (-168.0)Z^(-46) + (-2.0)Z^(-62) + (-10.0)Z^(-60) + (24.0)Z^(-66) + (46.0)Z^(-64) + (-15.0)Z^(-68) + (0.0)Z^(-70) + (-12.0)Z^(-72))*Q^(80) + O(Q^(88))\n"
     ]
    }
   ],
   "source": [
    "select_tb_QZ_series = get_theta_block_QZ_expansion(select_tb, max_q_power)\n",
    "\n",
    "print(print_QZ_function(select_tb_QZ_series, max_q_power))"
   ]
  },
  {
   "cell_type": "markdown",
   "metadata": {},
   "source": [
    "Now we convert the series expansion in $Q$ and $Z$ to the expansion in $q$ and $z=\\zeta$."
   ]
  },
  {
   "cell_type": "code",
   "execution_count": 19,
   "metadata": {},
   "outputs": [
    {
     "name": "stdout",
     "output_type": "stream",
     "text": [
      "((1.0)z^(12.0) + (-4.0)z^(7.0) + (-1.0)z^(8.0) + (0.0)z^(3.0) + (6.0)z^(9.0) + (3.0)z^(4.0) + (3.0)z^(5.0) + (-6.0)z^(0.0) + (-4.0)z^(6.0) + (-2.0)z^(1.0) + (4.0)z^(2.0) + (0.0)z^(-3.0) + (0.0)z^(10.0) + (4.0)z^(-2.0) + (-2.0)z^(-1.0) + (3.0)z^(-5.0) + (3.0)z^(-4.0) + (-4.0)z^(-7.0) + (-4.0)z^(-6.0) + (6.0)z^(-9.0) + (-3.0)z^(11.0) + (-1.0)z^(-8.0) + (0.0)z^(-10.0) + (-3.0)z^(-11.0) + (1.0)z^(-12.0))*q^(1.0) + ((-1.0)z^(17.0) + (1.0)z^(2.0) + (2.0)z^(16.0) + (1.0)z^(11.0) + (1.0)z^(13.0) + (1.0)z^(-2.0) + (-6.0)z^(4.0) + (4.0)z^(-1.0) + (1.0)z^(15.0) + (0.0)z^(10.0) + (2.0)z^(6.0) + (-3.0)z^(14.0) + (6.0)z^(8.0) + (-1.0)z^(-5.0) + (4.0)z^(1.0) + (-6.0)z^(-4.0) + (-1.0)z^(-3.0) + (-2.0)z^(12.0) + (-4.0)z^(7.0) + (-1.0)z^(3.0) + (-1.0)z^(5.0) + (6.0)z^(-8.0) + (-4.0)z^(-7.0) + (2.0)z^(-6.0) + (0.0)z^(9.0) + (0.0)z^(0.0) + (0.0)z^(-10.0) + (0.0)z^(-9.0) + (-2.0)z^(-12.0) + (1.0)z^(-11.0) + (-3.0)z^(-14.0) + (1.0)z^(-13.0) + (1.0)z^(-15.0) + (2.0)z^(-16.0) + (-1.0)z^(-17.0))*q^(2.0) + ((1.0)z^(21.0) + (4.0)z^(6.0) + (-4.0)z^(9.0) + (4.0)z^(-6.0) + (-1.0)z^(20.0) + (3.0)z^(5.0) + (-1.0)z^(19.0) + (0.0)z^(14.0) + (3.0)z^(16.0) + (-1.0)z^(1.0) + (2.0)z^(7.0) + (-2.0)z^(2.0) + (-2.0)z^(18.0) + (2.0)z^(3.0) + (-4.0)z^(-9.0) + (-2.0)z^(11.0) + (0.0)z^(-4.0) + (0.0)z^(10.0) + (0.0)z^(-8.0) + (-2.0)z^(-2.0) + (2.0)z^(-7.0) + (-3.0)z^(13.0) + (2.0)z^(17.0) + (0.0)z^(4.0) + (-1.0)z^(-1.0) + (-6.0)z^(0.0) + (1.0)z^(15.0) + (1.0)z^(-12.0) + (0.0)z^(8.0) + (-2.0)z^(-11.0) + (3.0)z^(-5.0) + (0.0)z^(-10.0) + (1.0)z^(12.0) + (2.0)z^(-3.0) + (0.0)z^(-14.0) + (-3.0)z^(-13.0) + (3.0)z^(-16.0) + (1.0)z^(-15.0) + (-2.0)z^(-18.0) + (2.0)z^(-17.0) + (-1.0)z^(-19.0) + (-1.0)z^(-20.0) + (1.0)z^(-21.0))*q^(3.0) + ((3.0)z^(22.0) + (1.0)z^(-3.0) + (-6.0)z^(18.0) + (-1.0)z^(-7.0) + (2.0)z^(20.0) + (-2.0)z^(15.0) + (12.0)z^(0.0) + (-3.0)z^(-5.0) + (-2.0)z^(24.0) + (3.0)z^(9.0) + (2.0)z^(12.0) + (-1.0)z^(19.0) + (0.0)z^(-6.0) + (-3.0)z^(-10.0) + (-1.0)z^(17.0) + (-6.0)z^(-8.0) + (4.0)z^(13.0) + (4.0)z^(14.0) + (1.0)z^(3.0) + (2.0)z^(-12.0) + (2.0)z^(-2.0) + (-1.0)z^(-1.0) + (2.0)z^(23.0) + (-6.0)z^(8.0) + (-4.0)z^(4.0) + (-3.0)z^(10.0) + (-3.0)z^(5.0) + (-2.0)z^(21.0) + (0.0)z^(6.0) + (-1.0)z^(1.0) + (-4.0)z^(-4.0) + (2.0)z^(16.0) + (3.0)z^(-9.0) + (4.0)z^(-13.0) + (1.0)z^(-11.0) + (1.0)z^(11.0) + (-2.0)z^(-15.0) + (4.0)z^(-14.0) + (-1.0)z^(7.0) + (2.0)z^(2.0) + (-1.0)z^(-17.0) + (2.0)z^(-16.0) + (-1.0)z^(-19.0) + (-6.0)z^(-18.0) + (-2.0)z^(-21.0) + (2.0)z^(-20.0) + (3.0)z^(-22.0) + (2.0)z^(-23.0) + (-2.0)z^(-24.0))*q^(4.0) + ((2.0)z^(26.0) + (-5.0)z^(1.0) + (-6.0)z^(25.0) + (4.0)z^(10.0) + (-8.0)z^(14.0) + (5.0)z^(-11.0) + (-6.0)z^(5.0) + (4.0)z^(-10.0) + (0.0)z^(0.0) + (-2.0)z^(21.0) + (5.0)z^(-4.0) + (3.0)z^(23.0) + (0.0)z^(18.0) + (-2.0)z^(3.0) + (0.0)z^(-2.0) + (0.0)z^(22.0) + (10.0)z^(7.0) + (5.0)z^(11.0) + (-8.0)z^(-14.0) + (0.0)z^(2.0) + (-3.0)z^(-13.0) + (-3.0)z^(8.0) + (-5.0)z^(17.0) + (7.0)z^(19.0) + (5.0)z^(4.0) + (-4.0)z^(16.0) + (-1.0)z^(-9.0) + (-1.0)z^(12.0) + (-1.0)z^(9.0) + (2.0)z^(-6.0) + (10.0)z^(-7.0) + (-6.0)z^(-5.0) + (1.0)z^(27.0) + (4.0)z^(15.0) + (-2.0)z^(-3.0) + (4.0)z^(20.0) + (2.0)z^(6.0) + (-5.0)z^(-17.0) + (-5.0)z^(-1.0) + (-4.0)z^(-16.0) + (-3.0)z^(13.0) + (-1.0)z^(-12.0) + (-3.0)z^(-8.0) + (0.0)z^(-18.0) + (-1.0)z^(24.0) + (4.0)z^(-15.0) + (7.0)z^(-19.0) + (4.0)z^(-20.0) + (-2.0)z^(-21.0) + (0.0)z^(-22.0) + (3.0)z^(-23.0) + (-1.0)z^(-24.0) + (-6.0)z^(-25.0) + (2.0)z^(-26.0) + (1.0)z^(-27.0))*q^(5.0) + ((-1.0)z^(29.0) + (2.0)z^(4.0) + (0.0)z^(28.0) + (-1.0)z^(13.0) + (1.0)z^(17.0) + (0.0)z^(-8.0) + (0.0)z^(8.0) + (0.0)z^(-7.0) + (1.0)z^(27.0) + (0.0)z^(12.0) + (2.0)z^(15.0) + (0.0)z^(0.0) + (-2.0)z^(20.0) + (2.0)z^(-5.0) + (-2.0)z^(19.0) + (1.0)z^(-17.0) + (1.0)z^(-1.0) + (4.0)z^(-16.0) + (0.0)z^(-3.0) + (2.0)z^(-15.0) + (0.0)z^(3.0) + (-4.0)z^(24.0) + (3.0)z^(26.0) + (1.0)z^(21.0) + (1.0)z^(6.0) + (1.0)z^(1.0) + (1.0)z^(25.0) + (-3.0)z^(10.0) + (-1.0)z^(14.0) + (0.0)z^(-11.0) + (2.0)z^(5.0) + (-3.0)z^(-10.0) + (0.0)z^(11.0) + (-1.0)z^(22.0) + (0.0)z^(7.0) + (1.0)z^(-6.0) + (2.0)z^(-4.0) + (-2.0)z^(-2.0) + (-4.0)z^(9.0) + (4.0)z^(16.0) + (-2.0)z^(-20.0) + (-2.0)z^(-19.0) + (3.0)z^(-18.0) + (-2.0)z^(2.0) + (0.0)z^(-12.0) + (-1.0)z^(-13.0) + (-4.0)z^(-9.0) + (-1.0)z^(23.0) + (3.0)z^(18.0) + (-1.0)z^(-14.0) + (-1.0)z^(-22.0) + (1.0)z^(-21.0) + (-4.0)z^(-24.0) + (-1.0)z^(-23.0) + (3.0)z^(-26.0) + (1.0)z^(-25.0) + (1.0)z^(-27.0) + (0.0)z^(-28.0) + (-1.0)z^(-29.0))*q^(6.0) + ((5.0)z^(27.0) + (-3.0)z^(23.0) + (4.0)z^(30.0) + (-7.0)z^(5.0) + (6.0)z^(24.0) + (3.0)z^(19.0) + (0.0)z^(10.0) + (1.0)z^(-15.0) + (-3.0)z^(20.0) + (8.0)z^(2.0) + (-4.0)z^(21.0) + (-2.0)z^(16.0) + (11.0)z^(7.0) + (18.0)z^(-18.0) + (-6.0)z^(28.0) + (2.0)z^(3.0) + (18.0)z^(-1.0) + (-4.0)z^(26.0) + (2.0)z^(6.0) + (9.0)z^(1.0) + (4.0)z^(17.0) + (9.0)z^(12.0) + (1.0)z^(13.0) + (13.0)z^(-12.0) + (-8.0)z^(9.0) + (-13.0)z^(-16.0) + (-2.0)z^(11.0) + (-13.0)z^(-9.0) + (1.0)z^(-14.0) + (-1.0)z^(32.0) + (-1.0)z^(31.0) + (25.0)z^(-5.0) + (19.0)z^(-4.0) + (-7.0)z^(15.0) + (6.0)z^(18.0) + (-7.0)z^(-2.0) + (0.0)z^(22.0) + (0.0)z^(-13.0) + (1.0)z^(0.0) + (-12.0)z^(4.0) + (-3.0)z^(-21.0) + (-2.0)z^(25.0) + (2.0)z^(14.0) + (5.0)z^(-19.0) + (-9.0)z^(8.0) + (-3.0)z^(-17.0) + (-16.0)z^(-6.0) + (4.0)z^(-11.0) + (-7.0)z^(-23.0) + (4.0)z^(-7.0) + (-3.0)z^(-22.0) + (-8.0)z^(-10.0) + (2.0)z^(29.0) + (-39.0)z^(-3.0) + (-2.0)z^(-8.0) + (-6.0)z^(-20.0) + (-2.0)z^(-25.0) + (13.0)z^(-24.0) + (6.0)z^(-27.0) + (-7.0)z^(-26.0) + (2.0)z^(-29.0) + (-6.0)z^(-28.0) + (4.0)z^(-30.0) + (-1.0)z^(-31.0) + (-1.0)z^(-32.0))*q^(7.0) + ((-3.0)z^(31.0) + (-4.0)z^(19.0) + (1.0)z^(29.0) + (12.0)z^(14.0) + (-3.0)z^(30.0) + (-3.0)z^(26.0) + (0.0)z^(33.0) + (15.0)z^(8.0) + (2.0)z^(27.0) + (-3.0)z^(22.0) + (5.0)z^(13.0) + (9.0)z^(-12.0) + (6.0)z^(28.0) + (-12.0)z^(16.0) + (-3.0)z^(11.0) + (-4.0)z^(32.0) + (16.0)z^(7.0) + (0.0)z^(20.0) + (30.0)z^(-5.0) + (32.0)z^(-4.0) + (-1.0)z^(21.0) + (-6.0)z^(17.0) + (4.0)z^(24.0) + (11.0)z^(-1.0) + (0.0)z^(18.0) + (-36.0)z^(4.0) + (14.0)z^(-21.0) + (4.0)z^(25.0) + (22.0)z^(-8.0) + (5.0)z^(1.0) + (-8.0)z^(5.0) + (-13.0)z^(-20.0) + (-15.0)z^(-19.0) + (2.0)z^(23.0) + (6.0)z^(10.0) + (-4.0)z^(-15.0) + (6.0)z^(6.0) + (20.0)z^(2.0) + (-2.0)z^(9.0) + (0.0)z^(15.0) + (3.0)z^(-9.0) + (-7.0)z^(12.0) + (9.0)z^(-13.0) + (-12.0)z^(-6.0) + (15.0)z^(-11.0) + (-23.0)z^(-7.0) + (21.0)z^(-24.0) + (-22.0)z^(-2.0) + (-18.0)z^(-23.0) + (-6.0)z^(-22.0) + (-40.0)z^(-3.0) + (-5.0)z^(0.0) + (25.0)z^(-18.0) + (-3.0)z^(3.0) + (-37.0)z^(-16.0) + (14.0)z^(-14.0) + (-23.0)z^(-10.0) + (3.0)z^(34.0) + (1.0)z^(-17.0) + (-15.0)z^(-26.0) + (18.0)z^(-25.0) + (-5.0)z^(-27.0) + (9.0)z^(-28.0) + (3.0)z^(-29.0) + (-2.0)z^(-30.0) + (-4.0)z^(-31.0) + (-4.0)z^(-32.0) + (0.0)z^(-33.0) + (3.0)z^(-34.0))*q^(8.0) + ((0.0)z^(34.0) + (-6.0)z^(22.0) + (1.0)z^(32.0) + (2.0)z^(17.0) + (5.0)z^(25.0) + (2.0)z^(13.0) + (-3.0)z^(23.0) + (13.0)z^(8.0) + (0.0)z^(30.0) + (-6.0)z^(15.0) + (8.0)z^(18.0) + (-9.0)z^(3.0) + (6.0)z^(33.0) + (-2.0)z^(29.0) + (-2.0)z^(36.0) + (-17.0)z^(11.0) + (2.0)z^(16.0) + (12.0)z^(-9.0) + (-1.0)z^(31.0) + (0.0)z^(19.0) + (16.0)z^(14.0) + (0.0)z^(35.0) + (-14.0)z^(10.0) + (-30.0)z^(-2.0) + (25.0)z^(-1.0) + (3.0)z^(24.0) + (-2.0)z^(20.0) + (-12.0)z^(27.0) + (72.0)z^(2.0) + (9.0)z^(21.0) + (27.0)z^(7.0) + (83.0)z^(-18.0) + (0.0)z^(28.0) + (115.0)z^(-5.0) + (-36.0)z^(4.0) + (29.0)z^(-17.0) + (-73.0)z^(-16.0) + (-11.0)z^(5.0) + (-18.0)z^(12.0) + (-28.0)z^(0.0) + (-5.0)z^(6.0) + (2.0)z^(26.0) + (11.0)z^(1.0) + (-20.0)z^(-11.0) + (-33.0)z^(-10.0) + (-48.0)z^(-7.0) + (-27.0)z^(-27.0) + (11.0)z^(-14.0) + (-47.0)z^(-26.0) + (41.0)z^(-25.0) + (38.0)z^(-12.0) + (61.0)z^(-24.0) + (4.0)z^(9.0) + (-94.0)z^(-3.0) + (-17.0)z^(-19.0) + (-32.0)z^(-6.0) + (20.0)z^(-13.0) + (41.0)z^(-4.0) + (-29.0)z^(-22.0) + (47.0)z^(-21.0) + (-27.0)z^(-20.0) + (16.0)z^(-29.0) + (8.0)z^(-28.0) + (-42.0)z^(-15.0) + (21.0)z^(-8.0) + (-58.0)z^(-23.0) + (-8.0)z^(-31.0) + (2.0)z^(-30.0) + (4.0)z^(-33.0) + (0.0)z^(-32.0) + (2.0)z^(-34.0) + (0.0)z^(-35.0) + (-2.0)z^(-36.0))*q^(9.0) + ((-27.0)z^(34.0) + (-72.0)z^(22.0) + (52.0)z^(32.0) + (-17.0)z^(17.0) + (44.0)z^(25.0) + (9.0)z^(13.0) + (-58.0)z^(23.0) + (29.0)z^(8.0) + (-13.0)z^(30.0) + (74.0)z^(15.0) + (228.0)z^(18.0) + (-142.0)z^(3.0) + (36.0)z^(33.0) + (-71.0)z^(29.0) + (-12.0)z^(36.0) + (-192.0)z^(11.0) + (112.0)z^(16.0) + (610.0)z^(-9.0) + (31.0)z^(31.0) + (-1.0)z^(19.0) + (-106.0)z^(14.0) + (0.0)z^(35.0) + (-195.0)z^(10.0) + (370.0)z^(-2.0) + (-186.0)z^(-1.0) + (-176.0)z^(24.0) + (-22.0)z^(20.0) + (-110.0)z^(27.0) + (454.0)z^(2.0) + (113.0)z^(21.0) + (-445.0)z^(7.0) + (333.0)z^(-18.0) + (6.0)z^(28.0) + (347.0)z^(-5.0) + (542.0)z^(4.0) + (152.0)z^(-17.0) + (-3.0)z^(-16.0) + (253.0)z^(5.0) + (-129.0)z^(12.0) + (-433.0)z^(0.0) + (-522.0)z^(6.0) + (169.0)z^(26.0) + (-126.0)z^(1.0) + (-432.0)z^(-11.0) + (32.0)z^(-10.0) + (-474.0)z^(-7.0) + (-147.0)z^(-27.0) + (-144.0)z^(-14.0) + (13.0)z^(-26.0) + (134.0)z^(-25.0) + (23.0)z^(-12.0) + (-51.0)z^(-24.0) + (557.0)z^(9.0) + (91.0)z^(-3.0) + (-24.0)z^(-19.0) + (-342.0)z^(-6.0) + (91.0)z^(-13.0) + (82.0)z^(-4.0) + (-153.0)z^(-22.0) + (196.0)z^(-21.0) + (-25.0)z^(-20.0) + (19.0)z^(-29.0) + (27.0)z^(-28.0) + (-186.0)z^(-15.0) + (-56.0)z^(-8.0) + (-168.0)z^(-23.0) + (-2.0)z^(-31.0) + (-10.0)z^(-30.0) + (24.0)z^(-33.0) + (46.0)z^(-32.0) + (-15.0)z^(-34.0) + (0.0)z^(-35.0) + (-12.0)z^(-36.0))*q^(10.0) + O(q^(11))\n"
     ]
    }
   ],
   "source": [
    "select_tb_qz_series = QZ_to_qz_expansion(select_tb_QZ_series)\n",
    "\n",
    "print(print_qz_function(select_tb_qz_series, max_q_power))"
   ]
  },
  {
   "cell_type": "markdown",
   "metadata": {},
   "source": [
    "# The order of a theta block at $x\\in\\mathbb{R}$\n",
    "\n",
    "The order of a theta block at $x$ is a periodic function of period 1. We compute the order on the interval $[0,1]$."
   ]
  },
  {
   "cell_type": "code",
   "execution_count": 20,
   "metadata": {},
   "outputs": [
    {
     "data": {
      "image/png": "[encoded data removed]",
      "text/plain": [
       "<matplotlib.figure.Figure at 0x1070965f8>"
      ]
     },
     "metadata": {},
     "output_type": "display_data"
    }
   ],
   "source": [
    "select_tb_plt = show_theta_block_order_graph(select_tb)\n",
    "select_tb_plt.show()"
   ]
  },
  {
   "cell_type": "markdown",
   "metadata": {},
   "source": [
    "### Computing the minimum order of a theta block\n",
    "The minimum order of a theta block tells us if the theta block is holomorphic (min_order $>= 0$) or cuspidal (min_order $>0$)"
   ]
  },
  {
   "cell_type": "code",
   "execution_count": 21,
   "metadata": {},
   "outputs": [
    {
     "name": "stdout",
     "output_type": "stream",
     "text": [
      "The theta block [4, 3, 3, 2, 1, 1] has minimum order 0.02027027.\n"
     ]
    }
   ],
   "source": [
    "select_tb_min_order = theta_block_minimum_order(select_tb)\n",
    "\n",
    "print(\"The theta block {} has minimum order {}.\"\n",
    "      .format(select_tb, np.round(select_tb_min_order, 8)))"
   ]
  },
  {
   "cell_type": "markdown",
   "metadata": {},
   "source": [
    "# Computing a basis of $J_{k, m}^{\\rm cusp}$ in terms of theta blocks\n",
    "\n",
    "We use theta blocks to compute a basis of the space of Jacobi cusp forms for a fixed weight $k$ and index $m$.\n",
    "\n",
    "Note that the basis might not consist solely of cuspidal theta blocks. Following a suggestion of D. Zagier, we consider non-zero linear combinations of non-cuspidal theta blocks to complete a basis if needed.\n",
    "\n",
    "Let's pick a weight $k$ and and index $m$. N. Skoruppa has previously determined a formula for the dimension of $J_{k, m}^{\\rm cusp}$. This tells us how many elements are in a basis."
   ]
  },
  {
   "cell_type": "code",
   "execution_count": 22,
   "metadata": {},
   "outputs": [
    {
     "name": "stdout",
     "output_type": "stream",
     "text": [
      "The dimension of J_(2,67)^(cusp) is 2.\n"
     ]
    }
   ],
   "source": [
    "select_weight = 2\n",
    "select_index = 67\n",
    "\n",
    "select_Jkm_cusp_dim = dim_jkm_cusp(select_weight, select_index)\n",
    "print(\"The dimension of J_({},{})^(cusp) is {}.\"\n",
    "      .format(select_weight, select_index, select_Jkm_cusp_dim))"
   ]
  },
  {
   "cell_type": "markdown",
   "metadata": {},
   "source": [
    "Now we compute sets of theta blocks of the selected weight and index. The first set is the set of the cuspidal theta blocks, the second is the set of non-cuspidal holomorphic theta blocks, and the last set is the set of non-holomorphic weakly holomorphic theta blocks partitioned into subsets determined by their minimum order."
   ]
  },
  {
   "cell_type": "code",
   "execution_count": 23,
   "metadata": {},
   "outputs": [
    {
     "name": "stdout",
     "output_type": "stream",
     "text": [
      "Finding theta blocks...\n",
      "Done.\n",
      "Sorting theta blocks...\n",
      "Done.\n"
     ]
    }
   ],
   "source": [
    "cusp_tbs, holo_tbs, neg_tbs = theta_block_order_sorter(select_index, select_weight)"
   ]
  },
  {
   "cell_type": "code",
   "execution_count": 24,
   "metadata": {},
   "outputs": [
    {
     "data": {
      "text/plain": [
       "[[4, 3, 2, 2, 1, 1, 0, 0, 1], [4, 3, 1, 1, 2, 2, 1], [4, 2, 2, 2, 2, 1, 0, 1]]"
      ]
     },
     "execution_count": 24,
     "metadata": {},
     "output_type": "execute_result"
    }
   ],
   "source": [
    "cusp_tbs"
   ]
  },
  {
   "cell_type": "code",
   "execution_count": 25,
   "metadata": {},
   "outputs": [
    {
     "data": {
      "text/plain": [
       "[]"
      ]
     },
     "execution_count": 25,
     "metadata": {},
     "output_type": "execute_result"
    }
   ],
   "source": [
    "holo_tbs"
   ]
  },
  {
   "cell_type": "code",
   "execution_count": 26,
   "metadata": {},
   "outputs": [
    {
     "data": {
      "text/plain": [
       "[[-0.063433000000000003,\n",
       "  [[4, 2, 2, 3, 0, 1, 2],\n",
       "   [4, 1, 4, 2, 0, 2, 0, 1],\n",
       "   [4, 3, 3, 1, 0, 1, 1, 1],\n",
       "   [4, 4, 3, 2, 0, 0, 0, 0, 0, 0, 1]]],\n",
       " [-0.078357999999999997,\n",
       "  [[4, 0, 3, 4, 0, 2, 1],\n",
       "   [4, 1, 1, 4, 2, 1, 1],\n",
       "   [4, 0, 4, 1, 3, 1, 1],\n",
       "   [4, 1, 2, 2, 2, 3],\n",
       "   [4, 2, 0, 2, 4, 2]]],\n",
       " [-0.089552000000000007,\n",
       "  [[4, 4, 2, 1, 2, 0, 0, 0, 0, 1],\n",
       "   [4, 4, 1, 1, 2, 0, 1, 1],\n",
       "   [4, 3, 0, 2, 4, 0, 0, 1],\n",
       "   [4, 5, 2, 0, 0, 0, 2, 1],\n",
       "   [4, 1, 2, 1, 5, 0, 1],\n",
       "   [4, 2, 3, 0, 3, 0, 2]]],\n",
       " [-0.108209,\n",
       "  [[4, 0, 4, 2, 0, 4],\n",
       "   [4, 4, 2, 0, 0, 2, 2],\n",
       "   [4, 1, 5, 0, 1, 1, 2],\n",
       "   [4, 2, 3, 1, 0, 3, 1],\n",
       "   [4, 3, 4, 1, 0, 1, 0, 0, 0, 1],\n",
       "   [4, 5, 3, 0, 0, 0, 1, 0, 0, 1]]],\n",
       " [-0.12313399999999999,\n",
       "  [[4, 4, 0, 2, 3, 0, 0, 0, 1],\n",
       "   [4, 3, 0, 3, 2, 0, 2],\n",
       "   [4, 4, 1, 2, 0, 0, 3],\n",
       "   [4, 5, 0, 0, 2, 1, 2],\n",
       "   [4, 5, 1, 1, 1, 0, 1, 0, 1]]],\n",
       " [-0.13805999999999999,\n",
       "  [[4, 0, 6, 1, 1, 0, 1, 1],\n",
       "   [4, 2, 4, 2, 0, 0, 0, 2],\n",
       "   [4, 0, 2, 6, 0, 0, 2],\n",
       "   [4, 1, 6, 1, 0, 0, 1, 0, 1],\n",
       "   [4, 1, 3, 4, 0, 0, 1, 1]]],\n",
       " [-0.149254,\n",
       "  [[4, 1, 2, 5, 1, 0, 0, 0, 1],\n",
       "   [4, 0, 5, 2, 2, 0, 0, 0, 1],\n",
       "   [4, 0, 7, 1, 1, 0, 0, 0, 0, 1],\n",
       "   [4, 0, 2, 5, 2, 0, 0, 1],\n",
       "   [4, 1, 4, 4, 0, 0, 0, 0, 0, 1]]],\n",
       " [-0.208955, [[4, 0, 1, 2, 7], [4, 0, 0, 5, 4, 1]]]]"
      ]
     },
     "execution_count": 26,
     "metadata": {},
     "output_type": "execute_result"
    }
   ],
   "source": [
    "neg_tbs"
   ]
  },
  {
   "cell_type": "markdown",
   "metadata": {},
   "source": [
    "## Finding a maximal linearly independent set of cuspidal theta blocks.\n",
    "\n",
    "In computing a basis, we first check to see if a basis can be completely constructed from the determined set of cuspidal theta blocks."
   ]
  },
  {
   "cell_type": "code",
   "execution_count": 27,
   "metadata": {},
   "outputs": [
    {
     "name": "stdout",
     "output_type": "stream",
     "text": [
      "Computing an expansion for [4, 3, 2, 2, 1, 1, 0, 0, 1]...\n",
      "Done.\n",
      "Computing an expansion for [4, 3, 1, 1, 2, 2, 1]...\n",
      "Done.\n",
      "Basis computed.\n"
     ]
    },
    {
     "data": {
      "text/plain": [
       "['[4, 3, 2, 2, 1, 1, 0, 0, 1]', '[4, 3, 1, 1, 2, 2, 1]']"
      ]
     },
     "execution_count": 27,
     "metadata": {},
     "output_type": "execute_result"
    }
   ],
   "source": [
    "max_lin_indep_cusp_tbs = get_max_lin_indep_cusp_tbs(cusp_tbs)\n",
    "list(max_lin_indep_cusp_tbs.keys())"
   ]
  },
  {
   "cell_type": "code",
   "execution_count": null,
   "metadata": {
    "collapsed": true
   },
   "outputs": [],
   "source": []
  }
 ],
 "metadata": {
  "kernelspec": {
   "display_name": "Python 3",
   "language": "python",
   "name": "python3"
  },
  "language_info": {
   "codemirror_mode": {
    "name": "ipython",
    "version": 3
   },
   "file_extension": ".py",
   "mimetype": "text/x-python",
   "name": "python",
   "nbconvert_exporter": "python",
   "pygments_lexer": "ipython3",
   "version": "3.6.1"
  }
 },
 "nbformat": 4,
 "nbformat_minor": 2
}
